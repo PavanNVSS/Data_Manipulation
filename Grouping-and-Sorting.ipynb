{
 "cells": [
  {
   "cell_type": "markdown",
   "id": "e4dfd5a1",
   "metadata": {
    "papermill": {
     "duration": 0.006885,
     "end_time": "2023-04-30T07:37:38.265403",
     "exception": false,
     "start_time": "2023-04-30T07:37:38.258518",
     "status": "completed"
    },
    "tags": []
   },
   "source": [
    "**This notebook is an exercise in the [Pandas](https://www.kaggle.com/learn/pandas) course.  You can reference the tutorial at [this link](https://www.kaggle.com/residentmario/grouping-and-sorting).**\n",
    "\n",
    "---\n"
   ]
  },
  {
   "cell_type": "markdown",
   "id": "96a4111b",
   "metadata": {
    "papermill": {
     "duration": 0.005344,
     "end_time": "2023-04-30T07:37:38.276772",
     "exception": false,
     "start_time": "2023-04-30T07:37:38.271428",
     "status": "completed"
    },
    "tags": []
   },
   "source": [
    "# Introduction\n",
    "\n",
    "In these exercises we'll apply groupwise analysis to our dataset.\n",
    "\n",
    "Run the code cell below to load the data before running the exercises."
   ]
  },
  {
   "cell_type": "code",
   "execution_count": 1,
   "id": "cb71fafc",
   "metadata": {
    "execution": {
     "iopub.execute_input": "2023-04-30T07:37:38.290363Z",
     "iopub.status.busy": "2023-04-30T07:37:38.289621Z",
     "iopub.status.idle": "2023-04-30T07:37:41.070849Z",
     "shell.execute_reply": "2023-04-30T07:37:41.069886Z"
    },
    "papermill": {
     "duration": 2.791833,
     "end_time": "2023-04-30T07:37:41.074274",
     "exception": false,
     "start_time": "2023-04-30T07:37:38.282441",
     "status": "completed"
    },
    "tags": []
   },
   "outputs": [
    {
     "name": "stdout",
     "output_type": "stream",
     "text": [
      "Setup complete.\n"
     ]
    }
   ],
   "source": [
    "import pandas as pd\n",
    "\n",
    "reviews = pd.read_csv(\"../input/wine-reviews/winemag-data-130k-v2.csv\", index_col=0)\n",
    "#pd.set_option(\"display.max_rows\", 5)\n",
    "\n",
    "from learntools.core import binder; binder.bind(globals())\n",
    "from learntools.pandas.grouping_and_sorting import *\n",
    "print(\"Setup complete.\")"
   ]
  },
  {
   "cell_type": "markdown",
   "id": "dbc5282e",
   "metadata": {
    "papermill": {
     "duration": 0.005511,
     "end_time": "2023-04-30T07:37:41.085925",
     "exception": false,
     "start_time": "2023-04-30T07:37:41.080414",
     "status": "completed"
    },
    "tags": []
   },
   "source": [
    "# Exercises"
   ]
  },
  {
   "cell_type": "markdown",
   "id": "56404245",
   "metadata": {
    "papermill": {
     "duration": 0.005491,
     "end_time": "2023-04-30T07:37:41.097463",
     "exception": false,
     "start_time": "2023-04-30T07:37:41.091972",
     "status": "completed"
    },
    "tags": []
   },
   "source": [
    "## 1.\n",
    "Who are the most common wine reviewers in the dataset? Create a `Series` whose index is the `taster_twitter_handle` category from the dataset, and whose values count how many reviews each person wrote."
   ]
  },
  {
   "cell_type": "code",
   "execution_count": 2,
   "id": "db5c9d28",
   "metadata": {
    "execution": {
     "iopub.execute_input": "2023-04-30T07:37:41.111250Z",
     "iopub.status.busy": "2023-04-30T07:37:41.110613Z",
     "iopub.status.idle": "2023-04-30T07:37:41.132090Z",
     "shell.execute_reply": "2023-04-30T07:37:41.131171Z"
    },
    "papermill": {
     "duration": 0.030882,
     "end_time": "2023-04-30T07:37:41.134117",
     "exception": false,
     "start_time": "2023-04-30T07:37:41.103235",
     "status": "completed"
    },
    "tags": []
   },
   "outputs": [
    {
     "data": {
      "application/javascript": [
       "parent.postMessage({\"jupyterEvent\": \"custom.exercise_interaction\", \"data\": {\"outcomeType\": 1, \"valueTowardsCompletion\": 0.16666666666666666, \"interactionType\": 1, \"questionType\": 1, \"questionId\": \"1_ReviewsWritten\", \"learnToolsVersion\": \"0.3.4\", \"failureMessage\": \"\", \"exceptionClass\": \"\", \"trace\": \"\"}}, \"*\")"
      ],
      "text/plain": [
       "<IPython.core.display.Javascript object>"
      ]
     },
     "metadata": {},
     "output_type": "display_data"
    },
    {
     "data": {
      "text/markdown": [
       "<span style=\"color:#33cc33\">Correct:</span> \n",
       "\n",
       "\n",
       "```python\n",
       "reviews_written = reviews.groupby('taster_twitter_handle').size()\n",
       "```\n",
       "or\n",
       "```python\n",
       "reviews_written = reviews.groupby('taster_twitter_handle').taster_twitter_handle.count()\n",
       "```\n"
      ],
      "text/plain": [
       "Correct: \n",
       "\n",
       "\n",
       "```python\n",
       "reviews_written = reviews.groupby('taster_twitter_handle').size()\n",
       "```\n",
       "or\n",
       "```python\n",
       "reviews_written = reviews.groupby('taster_twitter_handle').taster_twitter_handle.count()\n",
       "```"
      ]
     },
     "metadata": {},
     "output_type": "display_data"
    }
   ],
   "source": [
    "# Your code here\n",
    "reviews_written = reviews.groupby('taster_twitter_handle').size()\n",
    "# Check your answer\n",
    "q1.check()"
   ]
  },
  {
   "cell_type": "code",
   "execution_count": 3,
   "id": "e3dfd818",
   "metadata": {
    "execution": {
     "iopub.execute_input": "2023-04-30T07:37:41.147880Z",
     "iopub.status.busy": "2023-04-30T07:37:41.147496Z",
     "iopub.status.idle": "2023-04-30T07:37:41.151058Z",
     "shell.execute_reply": "2023-04-30T07:37:41.150232Z"
    },
    "papermill": {
     "duration": 0.012914,
     "end_time": "2023-04-30T07:37:41.153062",
     "exception": false,
     "start_time": "2023-04-30T07:37:41.140148",
     "status": "completed"
    },
    "tags": []
   },
   "outputs": [],
   "source": [
    "#q1.hint()\n",
    "#q1.solution()"
   ]
  },
  {
   "cell_type": "markdown",
   "id": "79c60e29",
   "metadata": {
    "papermill": {
     "duration": 0.005694,
     "end_time": "2023-04-30T07:37:41.164657",
     "exception": false,
     "start_time": "2023-04-30T07:37:41.158963",
     "status": "completed"
    },
    "tags": []
   },
   "source": [
    "## 2.\n",
    "What is the best wine I can buy for a given amount of money? Create a `Series` whose index is wine prices and whose values is the maximum number of points a wine costing that much was given in a review. Sort the values by price, ascending (so that `4.0` dollars is at the top and `3300.0` dollars is at the bottom)."
   ]
  },
  {
   "cell_type": "code",
   "execution_count": 4,
   "id": "d24c4182",
   "metadata": {
    "execution": {
     "iopub.execute_input": "2023-04-30T07:37:41.178513Z",
     "iopub.status.busy": "2023-04-30T07:37:41.177748Z",
     "iopub.status.idle": "2023-04-30T07:37:41.191403Z",
     "shell.execute_reply": "2023-04-30T07:37:41.190196Z"
    },
    "papermill": {
     "duration": 0.023522,
     "end_time": "2023-04-30T07:37:41.193942",
     "exception": false,
     "start_time": "2023-04-30T07:37:41.170420",
     "status": "completed"
    },
    "tags": []
   },
   "outputs": [
    {
     "data": {
      "application/javascript": [
       "parent.postMessage({\"jupyterEvent\": \"custom.exercise_interaction\", \"data\": {\"outcomeType\": 1, \"valueTowardsCompletion\": 0.16666666666666666, \"interactionType\": 1, \"questionType\": 1, \"questionId\": \"2_BestRatingPerPrice\", \"learnToolsVersion\": \"0.3.4\", \"failureMessage\": \"\", \"exceptionClass\": \"\", \"trace\": \"\"}}, \"*\")"
      ],
      "text/plain": [
       "<IPython.core.display.Javascript object>"
      ]
     },
     "metadata": {},
     "output_type": "display_data"
    },
    {
     "data": {
      "text/markdown": [
       "<span style=\"color:#33cc33\">Correct</span>"
      ],
      "text/plain": [
       "Correct"
      ]
     },
     "metadata": {},
     "output_type": "display_data"
    }
   ],
   "source": [
    "best_rating_per_price = reviews.groupby('price')['points'].max().sort_index()\n",
    "\n",
    "# Check your answer\n",
    "q2.check()"
   ]
  },
  {
   "cell_type": "code",
   "execution_count": 5,
   "id": "7bab78d5",
   "metadata": {
    "execution": {
     "iopub.execute_input": "2023-04-30T07:37:41.208598Z",
     "iopub.status.busy": "2023-04-30T07:37:41.207587Z",
     "iopub.status.idle": "2023-04-30T07:37:41.212674Z",
     "shell.execute_reply": "2023-04-30T07:37:41.211578Z"
    },
    "papermill": {
     "duration": 0.01476,
     "end_time": "2023-04-30T07:37:41.214983",
     "exception": false,
     "start_time": "2023-04-30T07:37:41.200223",
     "status": "completed"
    },
    "tags": []
   },
   "outputs": [],
   "source": [
    "#q2.hint()\n",
    "#q2.solution()"
   ]
  },
  {
   "cell_type": "markdown",
   "id": "273c1d26",
   "metadata": {
    "papermill": {
     "duration": 0.005862,
     "end_time": "2023-04-30T07:37:41.227057",
     "exception": false,
     "start_time": "2023-04-30T07:37:41.221195",
     "status": "completed"
    },
    "tags": []
   },
   "source": [
    "## 3.\n",
    "What are the minimum and maximum prices for each `variety` of wine? Create a `DataFrame` whose index is the `variety` category from the dataset and whose values are the `min` and `max` values thereof."
   ]
  },
  {
   "cell_type": "code",
   "execution_count": 6,
   "id": "e246ae68",
   "metadata": {
    "execution": {
     "iopub.execute_input": "2023-04-30T07:37:41.242907Z",
     "iopub.status.busy": "2023-04-30T07:37:41.242057Z",
     "iopub.status.idle": "2023-04-30T07:37:41.269027Z",
     "shell.execute_reply": "2023-04-30T07:37:41.267744Z"
    },
    "papermill": {
     "duration": 0.037299,
     "end_time": "2023-04-30T07:37:41.271508",
     "exception": false,
     "start_time": "2023-04-30T07:37:41.234209",
     "status": "completed"
    },
    "tags": []
   },
   "outputs": [
    {
     "data": {
      "application/javascript": [
       "parent.postMessage({\"jupyterEvent\": \"custom.exercise_interaction\", \"data\": {\"outcomeType\": 1, \"valueTowardsCompletion\": 0.16666666666666666, \"interactionType\": 1, \"questionType\": 1, \"questionId\": \"3_PriceExtremes\", \"learnToolsVersion\": \"0.3.4\", \"failureMessage\": \"\", \"exceptionClass\": \"\", \"trace\": \"\"}}, \"*\")"
      ],
      "text/plain": [
       "<IPython.core.display.Javascript object>"
      ]
     },
     "metadata": {},
     "output_type": "display_data"
    },
    {
     "data": {
      "text/markdown": [
       "<span style=\"color:#33cc33\">Correct</span>"
      ],
      "text/plain": [
       "Correct"
      ]
     },
     "metadata": {},
     "output_type": "display_data"
    }
   ],
   "source": [
    "price_extremes = reviews.groupby('variety').price.agg([min, max])\n",
    "\n",
    "# Check your answer\n",
    "q3.check()"
   ]
  },
  {
   "cell_type": "code",
   "execution_count": 7,
   "id": "96d5860a",
   "metadata": {
    "execution": {
     "iopub.execute_input": "2023-04-30T07:37:41.287078Z",
     "iopub.status.busy": "2023-04-30T07:37:41.286229Z",
     "iopub.status.idle": "2023-04-30T07:37:41.291102Z",
     "shell.execute_reply": "2023-04-30T07:37:41.290211Z"
    },
    "papermill": {
     "duration": 0.015383,
     "end_time": "2023-04-30T07:37:41.293427",
     "exception": false,
     "start_time": "2023-04-30T07:37:41.278044",
     "status": "completed"
    },
    "tags": []
   },
   "outputs": [],
   "source": [
    "#q3.hint()\n",
    "#q3.solution()"
   ]
  },
  {
   "cell_type": "markdown",
   "id": "462d5c1e",
   "metadata": {
    "papermill": {
     "duration": 0.006116,
     "end_time": "2023-04-30T07:37:41.306160",
     "exception": false,
     "start_time": "2023-04-30T07:37:41.300044",
     "status": "completed"
    },
    "tags": []
   },
   "source": [
    "## 4.\n",
    "What are the most expensive wine varieties? Create a variable `sorted_varieties` containing a copy of the dataframe from the previous question where varieties are sorted in descending order based on minimum price, then on maximum price (to break ties)."
   ]
  },
  {
   "cell_type": "code",
   "execution_count": 8,
   "id": "bd49a607",
   "metadata": {
    "execution": {
     "iopub.execute_input": "2023-04-30T07:37:41.320923Z",
     "iopub.status.busy": "2023-04-30T07:37:41.320497Z",
     "iopub.status.idle": "2023-04-30T07:37:41.332690Z",
     "shell.execute_reply": "2023-04-30T07:37:41.331621Z"
    },
    "papermill": {
     "duration": 0.022476,
     "end_time": "2023-04-30T07:37:41.334971",
     "exception": false,
     "start_time": "2023-04-30T07:37:41.312495",
     "status": "completed"
    },
    "tags": []
   },
   "outputs": [
    {
     "data": {
      "application/javascript": [
       "parent.postMessage({\"jupyterEvent\": \"custom.exercise_interaction\", \"data\": {\"outcomeType\": 1, \"valueTowardsCompletion\": 0.16666666666666666, \"interactionType\": 1, \"questionType\": 1, \"questionId\": \"4_SortedVarieties\", \"learnToolsVersion\": \"0.3.4\", \"failureMessage\": \"\", \"exceptionClass\": \"\", \"trace\": \"\"}}, \"*\")"
      ],
      "text/plain": [
       "<IPython.core.display.Javascript object>"
      ]
     },
     "metadata": {},
     "output_type": "display_data"
    },
    {
     "data": {
      "text/markdown": [
       "<span style=\"color:#33cc33\">Correct</span>"
      ],
      "text/plain": [
       "Correct"
      ]
     },
     "metadata": {},
     "output_type": "display_data"
    }
   ],
   "source": [
    "sorted_varieties = price_extremes.sort_values(by=['min', 'max'], ascending=False)\n",
    "\n",
    "# Check your answer\n",
    "q4.check()"
   ]
  },
  {
   "cell_type": "code",
   "execution_count": 9,
   "id": "cf5b376b",
   "metadata": {
    "execution": {
     "iopub.execute_input": "2023-04-30T07:37:41.351464Z",
     "iopub.status.busy": "2023-04-30T07:37:41.350250Z",
     "iopub.status.idle": "2023-04-30T07:37:41.355451Z",
     "shell.execute_reply": "2023-04-30T07:37:41.354228Z"
    },
    "papermill": {
     "duration": 0.01572,
     "end_time": "2023-04-30T07:37:41.357856",
     "exception": false,
     "start_time": "2023-04-30T07:37:41.342136",
     "status": "completed"
    },
    "tags": []
   },
   "outputs": [],
   "source": [
    "#q4.hint()\n",
    "#q4.solution()"
   ]
  },
  {
   "cell_type": "markdown",
   "id": "d76872c0",
   "metadata": {
    "papermill": {
     "duration": 0.006463,
     "end_time": "2023-04-30T07:37:41.371252",
     "exception": false,
     "start_time": "2023-04-30T07:37:41.364789",
     "status": "completed"
    },
    "tags": []
   },
   "source": [
    "## 5.\n",
    "Create a `Series` whose index is reviewers and whose values is the average review score given out by that reviewer. Hint: you will need the `taster_name` and `points` columns."
   ]
  },
  {
   "cell_type": "code",
   "execution_count": 10,
   "id": "5f020e31",
   "metadata": {
    "execution": {
     "iopub.execute_input": "2023-04-30T07:37:41.386811Z",
     "iopub.status.busy": "2023-04-30T07:37:41.386368Z",
     "iopub.status.idle": "2023-04-30T07:37:41.408041Z",
     "shell.execute_reply": "2023-04-30T07:37:41.406884Z"
    },
    "papermill": {
     "duration": 0.03216,
     "end_time": "2023-04-30T07:37:41.410203",
     "exception": false,
     "start_time": "2023-04-30T07:37:41.378043",
     "status": "completed"
    },
    "tags": []
   },
   "outputs": [
    {
     "data": {
      "application/javascript": [
       "parent.postMessage({\"jupyterEvent\": \"custom.exercise_interaction\", \"data\": {\"outcomeType\": 1, \"valueTowardsCompletion\": 0.16666666666666666, \"interactionType\": 1, \"questionType\": 1, \"questionId\": \"5_ReviewerMeanRatings\", \"learnToolsVersion\": \"0.3.4\", \"failureMessage\": \"\", \"exceptionClass\": \"\", \"trace\": \"\"}}, \"*\")"
      ],
      "text/plain": [
       "<IPython.core.display.Javascript object>"
      ]
     },
     "metadata": {},
     "output_type": "display_data"
    },
    {
     "data": {
      "text/markdown": [
       "<span style=\"color:#33cc33\">Correct</span>"
      ],
      "text/plain": [
       "Correct"
      ]
     },
     "metadata": {},
     "output_type": "display_data"
    }
   ],
   "source": [
    "reviewer_mean_ratings = reviews.groupby('taster_name').points.mean()\n",
    "\n",
    "# Check your answer\n",
    "q5.check()"
   ]
  },
  {
   "cell_type": "code",
   "execution_count": 11,
   "id": "c035e0f7",
   "metadata": {
    "execution": {
     "iopub.execute_input": "2023-04-30T07:37:41.426123Z",
     "iopub.status.busy": "2023-04-30T07:37:41.425720Z",
     "iopub.status.idle": "2023-04-30T07:37:41.430159Z",
     "shell.execute_reply": "2023-04-30T07:37:41.429049Z"
    },
    "papermill": {
     "duration": 0.015198,
     "end_time": "2023-04-30T07:37:41.432375",
     "exception": false,
     "start_time": "2023-04-30T07:37:41.417177",
     "status": "completed"
    },
    "tags": []
   },
   "outputs": [],
   "source": [
    "#q5.hint()\n",
    "#q5.solution()"
   ]
  },
  {
   "cell_type": "markdown",
   "id": "8222468e",
   "metadata": {
    "papermill": {
     "duration": 0.006675,
     "end_time": "2023-04-30T07:37:41.446113",
     "exception": false,
     "start_time": "2023-04-30T07:37:41.439438",
     "status": "completed"
    },
    "tags": []
   },
   "source": [
    "Are there significant differences in the average scores assigned by the various reviewers? Run the cell below to use the `describe()` method to see a summary of the range of values."
   ]
  },
  {
   "cell_type": "code",
   "execution_count": 12,
   "id": "65addbdb",
   "metadata": {
    "execution": {
     "iopub.execute_input": "2023-04-30T07:37:41.461758Z",
     "iopub.status.busy": "2023-04-30T07:37:41.461298Z",
     "iopub.status.idle": "2023-04-30T07:37:41.474196Z",
     "shell.execute_reply": "2023-04-30T07:37:41.472858Z"
    },
    "papermill": {
     "duration": 0.023556,
     "end_time": "2023-04-30T07:37:41.476655",
     "exception": false,
     "start_time": "2023-04-30T07:37:41.453099",
     "status": "completed"
    },
    "tags": []
   },
   "outputs": [
    {
     "data": {
      "text/plain": [
       "count    19.000000\n",
       "mean     88.233026\n",
       "std       1.243610\n",
       "min      85.855422\n",
       "25%      87.323501\n",
       "50%      88.536235\n",
       "75%      88.975256\n",
       "max      90.562551\n",
       "Name: points, dtype: float64"
      ]
     },
     "execution_count": 12,
     "metadata": {},
     "output_type": "execute_result"
    }
   ],
   "source": [
    "reviewer_mean_ratings.describe()"
   ]
  },
  {
   "cell_type": "markdown",
   "id": "5151e3f8",
   "metadata": {
    "papermill": {
     "duration": 0.006728,
     "end_time": "2023-04-30T07:37:41.490690",
     "exception": false,
     "start_time": "2023-04-30T07:37:41.483962",
     "status": "completed"
    },
    "tags": []
   },
   "source": [
    "## 6.\n",
    "What combination of countries and varieties are most common? Create a `Series` whose index is a `MultiIndex`of `{country, variety}` pairs. For example, a pinot noir produced in the US should map to `{\"US\", \"Pinot Noir\"}`. Sort the values in the `Series` in descending order based on wine count."
   ]
  },
  {
   "cell_type": "code",
   "execution_count": 13,
   "id": "3539afdf",
   "metadata": {
    "execution": {
     "iopub.execute_input": "2023-04-30T07:37:41.506570Z",
     "iopub.status.busy": "2023-04-30T07:37:41.506139Z",
     "iopub.status.idle": "2023-04-30T07:37:41.543851Z",
     "shell.execute_reply": "2023-04-30T07:37:41.542667Z"
    },
    "papermill": {
     "duration": 0.048654,
     "end_time": "2023-04-30T07:37:41.546246",
     "exception": false,
     "start_time": "2023-04-30T07:37:41.497592",
     "status": "completed"
    },
    "tags": []
   },
   "outputs": [
    {
     "data": {
      "application/javascript": [
       "parent.postMessage({\"jupyterEvent\": \"custom.exercise_interaction\", \"data\": {\"outcomeType\": 1, \"valueTowardsCompletion\": 0.16666666666666666, \"interactionType\": 1, \"questionType\": 1, \"questionId\": \"6_GroupbyCountryVariety\", \"learnToolsVersion\": \"0.3.4\", \"failureMessage\": \"\", \"exceptionClass\": \"\", \"trace\": \"\"}}, \"*\")"
      ],
      "text/plain": [
       "<IPython.core.display.Javascript object>"
      ]
     },
     "metadata": {},
     "output_type": "display_data"
    },
    {
     "data": {
      "text/markdown": [
       "<span style=\"color:#33cc33\">Correct</span>"
      ],
      "text/plain": [
       "Correct"
      ]
     },
     "metadata": {},
     "output_type": "display_data"
    }
   ],
   "source": [
    "country_variety_counts = reviews.groupby(['country', 'variety']).size().sort_values(ascending=False)\n",
    "\n",
    "# Check your answer\n",
    "q6.check()"
   ]
  },
  {
   "cell_type": "code",
   "execution_count": 14,
   "id": "157d38aa",
   "metadata": {
    "execution": {
     "iopub.execute_input": "2023-04-30T07:37:41.562907Z",
     "iopub.status.busy": "2023-04-30T07:37:41.562476Z",
     "iopub.status.idle": "2023-04-30T07:37:41.566293Z",
     "shell.execute_reply": "2023-04-30T07:37:41.565459Z"
    },
    "papermill": {
     "duration": 0.014773,
     "end_time": "2023-04-30T07:37:41.568376",
     "exception": false,
     "start_time": "2023-04-30T07:37:41.553603",
     "status": "completed"
    },
    "tags": []
   },
   "outputs": [],
   "source": [
    "#q6.hint()\n",
    "#q6.solution()"
   ]
  },
  {
   "cell_type": "markdown",
   "id": "19e7f7f5",
   "metadata": {
    "papermill": {
     "duration": 0.007217,
     "end_time": "2023-04-30T07:37:41.583006",
     "exception": false,
     "start_time": "2023-04-30T07:37:41.575789",
     "status": "completed"
    },
    "tags": []
   },
   "source": [
    "# Keep going\n",
    "\n",
    "Move on to the [**data types and missing data**](https://www.kaggle.com/residentmario/data-types-and-missing-values)."
   ]
  },
  {
   "cell_type": "markdown",
   "id": "9594710b",
   "metadata": {
    "papermill": {
     "duration": 0.006916,
     "end_time": "2023-04-30T07:37:41.597331",
     "exception": false,
     "start_time": "2023-04-30T07:37:41.590415",
     "status": "completed"
    },
    "tags": []
   },
   "source": [
    "---\n",
    "\n",
    "\n",
    "\n",
    "\n",
    "*Have questions or comments? Visit the [course discussion forum](https://www.kaggle.com/learn/pandas/discussion) to chat with other learners.*"
   ]
  }
 ],
 "metadata": {
  "kernelspec": {
   "display_name": "Python 3",
   "language": "python",
   "name": "python3"
  },
  "language_info": {
   "codemirror_mode": {
    "name": "ipython",
    "version": 3
   },
   "file_extension": ".py",
   "mimetype": "text/x-python",
   "name": "python",
   "nbconvert_exporter": "python",
   "pygments_lexer": "ipython3",
   "version": "3.7.12"
  },
  "papermill": {
   "default_parameters": {},
   "duration": 14.102249,
   "end_time": "2023-04-30T07:37:42.326395",
   "environment_variables": {},
   "exception": null,
   "input_path": "__notebook__.ipynb",
   "output_path": "__notebook__.ipynb",
   "parameters": {},
   "start_time": "2023-04-30T07:37:28.224146",
   "version": "2.4.0"
  }
 },
 "nbformat": 4,
 "nbformat_minor": 5
}
