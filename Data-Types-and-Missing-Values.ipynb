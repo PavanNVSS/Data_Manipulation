{
 "cells": [
  {
   "cell_type": "markdown",
   "id": "6232bdfb",
   "metadata": {
    "papermill": {
     "duration": 0.005534,
     "end_time": "2023-04-30T07:43:29.464005",
     "exception": false,
     "start_time": "2023-04-30T07:43:29.458471",
     "status": "completed"
    },
    "tags": []
   },
   "source": [
    "**This notebook is an exercise in the [Pandas](https://www.kaggle.com/learn/pandas) course.  You can reference the tutorial at [this link](https://www.kaggle.com/residentmario/data-types-and-missing-values).**\n",
    "\n",
    "---\n"
   ]
  },
  {
   "cell_type": "markdown",
   "id": "bb6f1800",
   "metadata": {
    "papermill": {
     "duration": 0.003995,
     "end_time": "2023-04-30T07:43:29.472458",
     "exception": false,
     "start_time": "2023-04-30T07:43:29.468463",
     "status": "completed"
    },
    "tags": []
   },
   "source": [
    "# Introduction\n",
    "\n",
    "Run the following cell to load your data and some utility functions."
   ]
  },
  {
   "cell_type": "code",
   "execution_count": 1,
   "id": "78080aa6",
   "metadata": {
    "execution": {
     "iopub.execute_input": "2023-04-30T07:43:29.482954Z",
     "iopub.status.busy": "2023-04-30T07:43:29.482554Z",
     "iopub.status.idle": "2023-04-30T07:43:33.233665Z",
     "shell.execute_reply": "2023-04-30T07:43:33.232203Z"
    },
    "papermill": {
     "duration": 3.760985,
     "end_time": "2023-04-30T07:43:33.237673",
     "exception": false,
     "start_time": "2023-04-30T07:43:29.476688",
     "status": "completed"
    },
    "tags": []
   },
   "outputs": [
    {
     "name": "stdout",
     "output_type": "stream",
     "text": [
      "Setup complete.\n"
     ]
    }
   ],
   "source": [
    "import pandas as pd\n",
    "\n",
    "reviews = pd.read_csv(\"../input/wine-reviews/winemag-data-130k-v2.csv\", index_col=0)\n",
    "\n",
    "from learntools.core import binder; binder.bind(globals())\n",
    "from learntools.pandas.data_types_and_missing_data import *\n",
    "print(\"Setup complete.\")"
   ]
  },
  {
   "cell_type": "markdown",
   "id": "4fb9e01f",
   "metadata": {
    "papermill": {
     "duration": 0.004251,
     "end_time": "2023-04-30T07:43:33.247185",
     "exception": false,
     "start_time": "2023-04-30T07:43:33.242934",
     "status": "completed"
    },
    "tags": []
   },
   "source": [
    "# Exercises"
   ]
  },
  {
   "cell_type": "markdown",
   "id": "5bfab8b1",
   "metadata": {
    "papermill": {
     "duration": 0.004031,
     "end_time": "2023-04-30T07:43:33.255586",
     "exception": false,
     "start_time": "2023-04-30T07:43:33.251555",
     "status": "completed"
    },
    "tags": []
   },
   "source": [
    "## 1. \n",
    "What is the data type of the `points` column in the dataset?"
   ]
  },
  {
   "cell_type": "code",
   "execution_count": 2,
   "id": "edd30c86",
   "metadata": {
    "execution": {
     "iopub.execute_input": "2023-04-30T07:43:33.266360Z",
     "iopub.status.busy": "2023-04-30T07:43:33.265501Z",
     "iopub.status.idle": "2023-04-30T07:43:33.277032Z",
     "shell.execute_reply": "2023-04-30T07:43:33.275898Z"
    },
    "papermill": {
     "duration": 0.01939,
     "end_time": "2023-04-30T07:43:33.279244",
     "exception": false,
     "start_time": "2023-04-30T07:43:33.259854",
     "status": "completed"
    },
    "tags": []
   },
   "outputs": [
    {
     "data": {
      "application/javascript": [
       "parent.postMessage({\"jupyterEvent\": \"custom.exercise_interaction\", \"data\": {\"outcomeType\": 1, \"valueTowardsCompletion\": 0.25, \"interactionType\": 1, \"questionType\": 1, \"questionId\": \"1_PointsDtype\", \"learnToolsVersion\": \"0.3.4\", \"failureMessage\": \"\", \"exceptionClass\": \"\", \"trace\": \"\"}}, \"*\")"
      ],
      "text/plain": [
       "<IPython.core.display.Javascript object>"
      ]
     },
     "metadata": {},
     "output_type": "display_data"
    },
    {
     "data": {
      "text/markdown": [
       "<span style=\"color:#33cc33\">Correct</span>"
      ],
      "text/plain": [
       "Correct"
      ]
     },
     "metadata": {},
     "output_type": "display_data"
    }
   ],
   "source": [
    "# Your code here\n",
    "dtype = reviews[\"points\"].dtype\n",
    "\n",
    "# Check your answer\n",
    "q1.check()"
   ]
  },
  {
   "cell_type": "code",
   "execution_count": 3,
   "id": "85ab8bea",
   "metadata": {
    "execution": {
     "iopub.execute_input": "2023-04-30T07:43:33.290902Z",
     "iopub.status.busy": "2023-04-30T07:43:33.289877Z",
     "iopub.status.idle": "2023-04-30T07:43:33.294780Z",
     "shell.execute_reply": "2023-04-30T07:43:33.293898Z"
    },
    "papermill": {
     "duration": 0.012984,
     "end_time": "2023-04-30T07:43:33.297015",
     "exception": false,
     "start_time": "2023-04-30T07:43:33.284031",
     "status": "completed"
    },
    "tags": []
   },
   "outputs": [],
   "source": [
    "#q1.hint()\n",
    "#q1.solution()"
   ]
  },
  {
   "cell_type": "markdown",
   "id": "dc2fba7d",
   "metadata": {
    "papermill": {
     "duration": 0.004331,
     "end_time": "2023-04-30T07:43:33.306012",
     "exception": false,
     "start_time": "2023-04-30T07:43:33.301681",
     "status": "completed"
    },
    "tags": []
   },
   "source": [
    "## 2. \n",
    "Create a Series from entries in the `points` column, but convert the entries to strings. Hint: strings are `str` in native Python."
   ]
  },
  {
   "cell_type": "code",
   "execution_count": 4,
   "id": "16ce38f0",
   "metadata": {
    "execution": {
     "iopub.execute_input": "2023-04-30T07:43:33.317631Z",
     "iopub.status.busy": "2023-04-30T07:43:33.316520Z",
     "iopub.status.idle": "2023-04-30T07:43:33.409997Z",
     "shell.execute_reply": "2023-04-30T07:43:33.408900Z"
    },
    "papermill": {
     "duration": 0.101623,
     "end_time": "2023-04-30T07:43:33.412244",
     "exception": false,
     "start_time": "2023-04-30T07:43:33.310621",
     "status": "completed"
    },
    "tags": []
   },
   "outputs": [
    {
     "data": {
      "application/javascript": [
       "parent.postMessage({\"jupyterEvent\": \"custom.exercise_interaction\", \"data\": {\"outcomeType\": 1, \"valueTowardsCompletion\": 0.25, \"interactionType\": 1, \"questionType\": 1, \"questionId\": \"2_StrPoints\", \"learnToolsVersion\": \"0.3.4\", \"failureMessage\": \"\", \"exceptionClass\": \"\", \"trace\": \"\"}}, \"*\")"
      ],
      "text/plain": [
       "<IPython.core.display.Javascript object>"
      ]
     },
     "metadata": {},
     "output_type": "display_data"
    },
    {
     "data": {
      "text/markdown": [
       "<span style=\"color:#33cc33\">Correct</span>"
      ],
      "text/plain": [
       "Correct"
      ]
     },
     "metadata": {},
     "output_type": "display_data"
    }
   ],
   "source": [
    "point_strings = reviews[\"points\"].astype(str)\n",
    "\n",
    "\n",
    "# Check your answer\n",
    "q2.check()"
   ]
  },
  {
   "cell_type": "code",
   "execution_count": 5,
   "id": "44f4ab38",
   "metadata": {
    "execution": {
     "iopub.execute_input": "2023-04-30T07:43:33.424168Z",
     "iopub.status.busy": "2023-04-30T07:43:33.423380Z",
     "iopub.status.idle": "2023-04-30T07:43:33.428107Z",
     "shell.execute_reply": "2023-04-30T07:43:33.426982Z"
    },
    "papermill": {
     "duration": 0.013626,
     "end_time": "2023-04-30T07:43:33.430774",
     "exception": false,
     "start_time": "2023-04-30T07:43:33.417148",
     "status": "completed"
    },
    "tags": []
   },
   "outputs": [],
   "source": [
    "#q2.hint()\n",
    "#q2.solution()"
   ]
  },
  {
   "cell_type": "markdown",
   "id": "b1950105",
   "metadata": {
    "papermill": {
     "duration": 0.004698,
     "end_time": "2023-04-30T07:43:33.440918",
     "exception": false,
     "start_time": "2023-04-30T07:43:33.436220",
     "status": "completed"
    },
    "tags": []
   },
   "source": [
    "## 3.\n",
    "Sometimes the price column is null. How many reviews in the dataset are missing a price?"
   ]
  },
  {
   "cell_type": "code",
   "execution_count": 6,
   "id": "5a40a75e",
   "metadata": {
    "execution": {
     "iopub.execute_input": "2023-04-30T07:43:33.452647Z",
     "iopub.status.busy": "2023-04-30T07:43:33.451999Z",
     "iopub.status.idle": "2023-04-30T07:43:33.470811Z",
     "shell.execute_reply": "2023-04-30T07:43:33.469881Z"
    },
    "papermill": {
     "duration": 0.027349,
     "end_time": "2023-04-30T07:43:33.473118",
     "exception": false,
     "start_time": "2023-04-30T07:43:33.445769",
     "status": "completed"
    },
    "tags": []
   },
   "outputs": [
    {
     "data": {
      "application/javascript": [
       "parent.postMessage({\"jupyterEvent\": \"custom.exercise_interaction\", \"data\": {\"outcomeType\": 1, \"valueTowardsCompletion\": 0.25, \"interactionType\": 1, \"questionType\": 1, \"questionId\": \"3_CountMissingPrices\", \"learnToolsVersion\": \"0.3.4\", \"failureMessage\": \"\", \"exceptionClass\": \"\", \"trace\": \"\"}}, \"*\")"
      ],
      "text/plain": [
       "<IPython.core.display.Javascript object>"
      ]
     },
     "metadata": {},
     "output_type": "display_data"
    },
    {
     "data": {
      "text/markdown": [
       "<span style=\"color:#33cc33\">Correct</span>"
      ],
      "text/plain": [
       "Correct"
      ]
     },
     "metadata": {},
     "output_type": "display_data"
    }
   ],
   "source": [
    "missing_price_reviews = reviews[reviews.price.isnull()]\n",
    "n_missing_prices = len(missing_price_reviews)\n",
    "n_missing_prices = reviews.price.isnull().sum()\n",
    "\n",
    "# Check your answer\n",
    "q3.check()"
   ]
  },
  {
   "cell_type": "code",
   "execution_count": 7,
   "id": "ac0eabf6",
   "metadata": {
    "execution": {
     "iopub.execute_input": "2023-04-30T07:43:33.485342Z",
     "iopub.status.busy": "2023-04-30T07:43:33.484738Z",
     "iopub.status.idle": "2023-04-30T07:43:33.488504Z",
     "shell.execute_reply": "2023-04-30T07:43:33.487527Z"
    },
    "papermill": {
     "duration": 0.012188,
     "end_time": "2023-04-30T07:43:33.490542",
     "exception": false,
     "start_time": "2023-04-30T07:43:33.478354",
     "status": "completed"
    },
    "tags": []
   },
   "outputs": [],
   "source": [
    "#q3.hint()\n",
    "#q3.solution()"
   ]
  },
  {
   "cell_type": "markdown",
   "id": "c431be84",
   "metadata": {
    "papermill": {
     "duration": 0.004832,
     "end_time": "2023-04-30T07:43:33.500469",
     "exception": false,
     "start_time": "2023-04-30T07:43:33.495637",
     "status": "completed"
    },
    "tags": []
   },
   "source": [
    "## 4.\n",
    "What are the most common wine-producing regions? Create a Series counting the number of times each value occurs in the `region_1` field. This field is often missing data, so replace missing values with `Unknown`. Sort in descending order.  Your output should look something like this:\n",
    "\n",
    "```\n",
    "Unknown                    21247\n",
    "Napa Valley                 4480\n",
    "                           ...  \n",
    "Bardolino Superiore            1\n",
    "Primitivo del Tarantino        1\n",
    "Name: region_1, Length: 1230, dtype: int64\n",
    "```"
   ]
  },
  {
   "cell_type": "code",
   "execution_count": 8,
   "id": "f5b528be",
   "metadata": {
    "execution": {
     "iopub.execute_input": "2023-04-30T07:43:33.512769Z",
     "iopub.status.busy": "2023-04-30T07:43:33.512127Z",
     "iopub.status.idle": "2023-04-30T07:43:33.556095Z",
     "shell.execute_reply": "2023-04-30T07:43:33.554904Z"
    },
    "papermill": {
     "duration": 0.052985,
     "end_time": "2023-04-30T07:43:33.558503",
     "exception": false,
     "start_time": "2023-04-30T07:43:33.505518",
     "status": "completed"
    },
    "tags": []
   },
   "outputs": [
    {
     "data": {
      "application/javascript": [
       "parent.postMessage({\"jupyterEvent\": \"custom.exercise_interaction\", \"data\": {\"outcomeType\": 1, \"valueTowardsCompletion\": 0.25, \"interactionType\": 1, \"questionType\": 2, \"questionId\": \"4_ReviewsPerRegion\", \"learnToolsVersion\": \"0.3.4\", \"failureMessage\": \"\", \"exceptionClass\": \"\", \"trace\": \"\"}}, \"*\")"
      ],
      "text/plain": [
       "<IPython.core.display.Javascript object>"
      ]
     },
     "metadata": {},
     "output_type": "display_data"
    },
    {
     "data": {
      "text/markdown": [
       "<span style=\"color:#33cc33\">Correct</span>"
      ],
      "text/plain": [
       "Correct"
      ]
     },
     "metadata": {},
     "output_type": "display_data"
    }
   ],
   "source": [
    "reviews_per_region = reviews.region_1.fillna('Unknown').value_counts().sort_values(ascending=False)\n",
    "\n",
    "# Check your answer\n",
    "q4.check()"
   ]
  },
  {
   "cell_type": "code",
   "execution_count": 9,
   "id": "d530341d",
   "metadata": {
    "execution": {
     "iopub.execute_input": "2023-04-30T07:43:33.571052Z",
     "iopub.status.busy": "2023-04-30T07:43:33.570647Z",
     "iopub.status.idle": "2023-04-30T07:43:33.574990Z",
     "shell.execute_reply": "2023-04-30T07:43:33.573884Z"
    },
    "papermill": {
     "duration": 0.013407,
     "end_time": "2023-04-30T07:43:33.577373",
     "exception": false,
     "start_time": "2023-04-30T07:43:33.563966",
     "status": "completed"
    },
    "tags": []
   },
   "outputs": [],
   "source": [
    "#q4.hint()\n",
    "#q4.solution()"
   ]
  },
  {
   "cell_type": "markdown",
   "id": "e270e90f",
   "metadata": {
    "papermill": {
     "duration": 0.005289,
     "end_time": "2023-04-30T07:43:33.588099",
     "exception": false,
     "start_time": "2023-04-30T07:43:33.582810",
     "status": "completed"
    },
    "tags": []
   },
   "source": [
    "# Keep going\n",
    "\n",
    "Move on to **[renaming and combining](https://www.kaggle.com/residentmario/renaming-and-combining)**."
   ]
  },
  {
   "cell_type": "markdown",
   "id": "9be19c52",
   "metadata": {
    "papermill": {
     "duration": 0.00524,
     "end_time": "2023-04-30T07:43:33.598754",
     "exception": false,
     "start_time": "2023-04-30T07:43:33.593514",
     "status": "completed"
    },
    "tags": []
   },
   "source": [
    "---\n",
    "\n",
    "\n",
    "\n",
    "\n",
    "*Have questions or comments? Visit the [course discussion forum](https://www.kaggle.com/learn/pandas/discussion) to chat with other learners.*"
   ]
  }
 ],
 "metadata": {
  "kernelspec": {
   "display_name": "Python 3",
   "language": "python",
   "name": "python3"
  },
  "language_info": {
   "codemirror_mode": {
    "name": "ipython",
    "version": 3
   },
   "file_extension": ".py",
   "mimetype": "text/x-python",
   "name": "python",
   "nbconvert_exporter": "python",
   "pygments_lexer": "ipython3",
   "version": "3.7.12"
  },
  "papermill": {
   "default_parameters": {},
   "duration": 14.422983,
   "end_time": "2023-04-30T07:43:34.225317",
   "environment_variables": {},
   "exception": null,
   "input_path": "__notebook__.ipynb",
   "output_path": "__notebook__.ipynb",
   "parameters": {},
   "start_time": "2023-04-30T07:43:19.802334",
   "version": "2.4.0"
  }
 },
 "nbformat": 4,
 "nbformat_minor": 5
}
