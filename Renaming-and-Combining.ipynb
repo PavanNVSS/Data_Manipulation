{
 "cells": [
  {
   "cell_type": "markdown",
   "id": "c9a3f228",
   "metadata": {
    "papermill": {
     "duration": 0.006703,
     "end_time": "2023-04-30T07:46:44.688881",
     "exception": false,
     "start_time": "2023-04-30T07:46:44.682178",
     "status": "completed"
    },
    "tags": []
   },
   "source": [
    "**This notebook is an exercise in the [Pandas](https://www.kaggle.com/learn/pandas) course.  You can reference the tutorial at [this link](https://www.kaggle.com/residentmario/renaming-and-combining).**\n",
    "\n",
    "---\n"
   ]
  },
  {
   "cell_type": "markdown",
   "id": "850d97b0",
   "metadata": {
    "papermill": {
     "duration": 0.005019,
     "end_time": "2023-04-30T07:46:44.699545",
     "exception": false,
     "start_time": "2023-04-30T07:46:44.694526",
     "status": "completed"
    },
    "tags": []
   },
   "source": [
    "# Introduction\n",
    "\n",
    "Run the following cell to load your data and some utility functions."
   ]
  },
  {
   "cell_type": "code",
   "execution_count": 1,
   "id": "73081610",
   "metadata": {
    "execution": {
     "iopub.execute_input": "2023-04-30T07:46:44.712636Z",
     "iopub.status.busy": "2023-04-30T07:46:44.712165Z",
     "iopub.status.idle": "2023-04-30T07:46:49.211867Z",
     "shell.execute_reply": "2023-04-30T07:46:49.210585Z"
    },
    "papermill": {
     "duration": 4.51027,
     "end_time": "2023-04-30T07:46:49.215120",
     "exception": false,
     "start_time": "2023-04-30T07:46:44.704850",
     "status": "completed"
    },
    "tags": []
   },
   "outputs": [
    {
     "name": "stdout",
     "output_type": "stream",
     "text": [
      "Setup complete.\n"
     ]
    }
   ],
   "source": [
    "import pandas as pd\n",
    "\n",
    "reviews = pd.read_csv(\"../input/wine-reviews/winemag-data-130k-v2.csv\", index_col=0)\n",
    "\n",
    "from learntools.core import binder; binder.bind(globals())\n",
    "from learntools.pandas.renaming_and_combining import *\n",
    "print(\"Setup complete.\")"
   ]
  },
  {
   "cell_type": "markdown",
   "id": "044ee692",
   "metadata": {
    "papermill": {
     "duration": 0.005567,
     "end_time": "2023-04-30T07:46:49.226331",
     "exception": false,
     "start_time": "2023-04-30T07:46:49.220764",
     "status": "completed"
    },
    "tags": []
   },
   "source": [
    "# Exercises\n",
    "\n",
    "View the first several lines of your data by running the cell below:"
   ]
  },
  {
   "cell_type": "code",
   "execution_count": 2,
   "id": "2c44c8ef",
   "metadata": {
    "execution": {
     "iopub.execute_input": "2023-04-30T07:46:49.239928Z",
     "iopub.status.busy": "2023-04-30T07:46:49.239450Z",
     "iopub.status.idle": "2023-04-30T07:46:49.275537Z",
     "shell.execute_reply": "2023-04-30T07:46:49.274167Z"
    },
    "papermill": {
     "duration": 0.046391,
     "end_time": "2023-04-30T07:46:49.278501",
     "exception": false,
     "start_time": "2023-04-30T07:46:49.232110",
     "status": "completed"
    },
    "tags": []
   },
   "outputs": [
    {
     "data": {
      "text/html": [
       "<div>\n",
       "<style scoped>\n",
       "    .dataframe tbody tr th:only-of-type {\n",
       "        vertical-align: middle;\n",
       "    }\n",
       "\n",
       "    .dataframe tbody tr th {\n",
       "        vertical-align: top;\n",
       "    }\n",
       "\n",
       "    .dataframe thead th {\n",
       "        text-align: right;\n",
       "    }\n",
       "</style>\n",
       "<table border=\"1\" class=\"dataframe\">\n",
       "  <thead>\n",
       "    <tr style=\"text-align: right;\">\n",
       "      <th></th>\n",
       "      <th>country</th>\n",
       "      <th>description</th>\n",
       "      <th>designation</th>\n",
       "      <th>points</th>\n",
       "      <th>price</th>\n",
       "      <th>province</th>\n",
       "      <th>region_1</th>\n",
       "      <th>region_2</th>\n",
       "      <th>taster_name</th>\n",
       "      <th>taster_twitter_handle</th>\n",
       "      <th>title</th>\n",
       "      <th>variety</th>\n",
       "      <th>winery</th>\n",
       "    </tr>\n",
       "  </thead>\n",
       "  <tbody>\n",
       "    <tr>\n",
       "      <th>0</th>\n",
       "      <td>Italy</td>\n",
       "      <td>Aromas include tropical fruit, broom, brimston...</td>\n",
       "      <td>Vulkà Bianco</td>\n",
       "      <td>87</td>\n",
       "      <td>NaN</td>\n",
       "      <td>Sicily &amp; Sardinia</td>\n",
       "      <td>Etna</td>\n",
       "      <td>NaN</td>\n",
       "      <td>Kerin O’Keefe</td>\n",
       "      <td>@kerinokeefe</td>\n",
       "      <td>Nicosia 2013 Vulkà Bianco  (Etna)</td>\n",
       "      <td>White Blend</td>\n",
       "      <td>Nicosia</td>\n",
       "    </tr>\n",
       "    <tr>\n",
       "      <th>1</th>\n",
       "      <td>Portugal</td>\n",
       "      <td>This is ripe and fruity, a wine that is smooth...</td>\n",
       "      <td>Avidagos</td>\n",
       "      <td>87</td>\n",
       "      <td>15.0</td>\n",
       "      <td>Douro</td>\n",
       "      <td>NaN</td>\n",
       "      <td>NaN</td>\n",
       "      <td>Roger Voss</td>\n",
       "      <td>@vossroger</td>\n",
       "      <td>Quinta dos Avidagos 2011 Avidagos Red (Douro)</td>\n",
       "      <td>Portuguese Red</td>\n",
       "      <td>Quinta dos Avidagos</td>\n",
       "    </tr>\n",
       "    <tr>\n",
       "      <th>2</th>\n",
       "      <td>US</td>\n",
       "      <td>Tart and snappy, the flavors of lime flesh and...</td>\n",
       "      <td>NaN</td>\n",
       "      <td>87</td>\n",
       "      <td>14.0</td>\n",
       "      <td>Oregon</td>\n",
       "      <td>Willamette Valley</td>\n",
       "      <td>Willamette Valley</td>\n",
       "      <td>Paul Gregutt</td>\n",
       "      <td>@paulgwine</td>\n",
       "      <td>Rainstorm 2013 Pinot Gris (Willamette Valley)</td>\n",
       "      <td>Pinot Gris</td>\n",
       "      <td>Rainstorm</td>\n",
       "    </tr>\n",
       "    <tr>\n",
       "      <th>3</th>\n",
       "      <td>US</td>\n",
       "      <td>Pineapple rind, lemon pith and orange blossom ...</td>\n",
       "      <td>Reserve Late Harvest</td>\n",
       "      <td>87</td>\n",
       "      <td>13.0</td>\n",
       "      <td>Michigan</td>\n",
       "      <td>Lake Michigan Shore</td>\n",
       "      <td>NaN</td>\n",
       "      <td>Alexander Peartree</td>\n",
       "      <td>NaN</td>\n",
       "      <td>St. Julian 2013 Reserve Late Harvest Riesling ...</td>\n",
       "      <td>Riesling</td>\n",
       "      <td>St. Julian</td>\n",
       "    </tr>\n",
       "    <tr>\n",
       "      <th>4</th>\n",
       "      <td>US</td>\n",
       "      <td>Much like the regular bottling from 2012, this...</td>\n",
       "      <td>Vintner's Reserve Wild Child Block</td>\n",
       "      <td>87</td>\n",
       "      <td>65.0</td>\n",
       "      <td>Oregon</td>\n",
       "      <td>Willamette Valley</td>\n",
       "      <td>Willamette Valley</td>\n",
       "      <td>Paul Gregutt</td>\n",
       "      <td>@paulgwine</td>\n",
       "      <td>Sweet Cheeks 2012 Vintner's Reserve Wild Child...</td>\n",
       "      <td>Pinot Noir</td>\n",
       "      <td>Sweet Cheeks</td>\n",
       "    </tr>\n",
       "  </tbody>\n",
       "</table>\n",
       "</div>"
      ],
      "text/plain": [
       "    country                                        description  \\\n",
       "0     Italy  Aromas include tropical fruit, broom, brimston...   \n",
       "1  Portugal  This is ripe and fruity, a wine that is smooth...   \n",
       "2        US  Tart and snappy, the flavors of lime flesh and...   \n",
       "3        US  Pineapple rind, lemon pith and orange blossom ...   \n",
       "4        US  Much like the regular bottling from 2012, this...   \n",
       "\n",
       "                          designation  points  price           province  \\\n",
       "0                        Vulkà Bianco      87    NaN  Sicily & Sardinia   \n",
       "1                            Avidagos      87   15.0              Douro   \n",
       "2                                 NaN      87   14.0             Oregon   \n",
       "3                Reserve Late Harvest      87   13.0           Michigan   \n",
       "4  Vintner's Reserve Wild Child Block      87   65.0             Oregon   \n",
       "\n",
       "              region_1           region_2         taster_name  \\\n",
       "0                 Etna                NaN       Kerin O’Keefe   \n",
       "1                  NaN                NaN          Roger Voss   \n",
       "2    Willamette Valley  Willamette Valley        Paul Gregutt   \n",
       "3  Lake Michigan Shore                NaN  Alexander Peartree   \n",
       "4    Willamette Valley  Willamette Valley        Paul Gregutt   \n",
       "\n",
       "  taster_twitter_handle                                              title  \\\n",
       "0          @kerinokeefe                  Nicosia 2013 Vulkà Bianco  (Etna)   \n",
       "1            @vossroger      Quinta dos Avidagos 2011 Avidagos Red (Douro)   \n",
       "2           @paulgwine       Rainstorm 2013 Pinot Gris (Willamette Valley)   \n",
       "3                   NaN  St. Julian 2013 Reserve Late Harvest Riesling ...   \n",
       "4           @paulgwine   Sweet Cheeks 2012 Vintner's Reserve Wild Child...   \n",
       "\n",
       "          variety               winery  \n",
       "0     White Blend              Nicosia  \n",
       "1  Portuguese Red  Quinta dos Avidagos  \n",
       "2      Pinot Gris            Rainstorm  \n",
       "3        Riesling           St. Julian  \n",
       "4      Pinot Noir         Sweet Cheeks  "
      ]
     },
     "execution_count": 2,
     "metadata": {},
     "output_type": "execute_result"
    }
   ],
   "source": [
    "reviews.head()"
   ]
  },
  {
   "cell_type": "markdown",
   "id": "41b31f92",
   "metadata": {
    "papermill": {
     "duration": 0.005577,
     "end_time": "2023-04-30T07:46:49.290231",
     "exception": false,
     "start_time": "2023-04-30T07:46:49.284654",
     "status": "completed"
    },
    "tags": []
   },
   "source": [
    "## 1.\n",
    "`region_1` and `region_2` are pretty uninformative names for locale columns in the dataset. Create a copy of `reviews` with these columns renamed to `region` and `locale`, respectively."
   ]
  },
  {
   "cell_type": "code",
   "execution_count": 3,
   "id": "2090a22d",
   "metadata": {
    "execution": {
     "iopub.execute_input": "2023-04-30T07:46:49.304587Z",
     "iopub.status.busy": "2023-04-30T07:46:49.304059Z",
     "iopub.status.idle": "2023-04-30T07:46:49.346708Z",
     "shell.execute_reply": "2023-04-30T07:46:49.345524Z"
    },
    "papermill": {
     "duration": 0.053097,
     "end_time": "2023-04-30T07:46:49.349207",
     "exception": false,
     "start_time": "2023-04-30T07:46:49.296110",
     "status": "completed"
    },
    "tags": []
   },
   "outputs": [
    {
     "data": {
      "application/javascript": [
       "parent.postMessage({\"jupyterEvent\": \"custom.exercise_interaction\", \"data\": {\"outcomeType\": 1, \"valueTowardsCompletion\": 0.25, \"interactionType\": 1, \"questionType\": 1, \"questionId\": \"1_RenameCols\", \"learnToolsVersion\": \"0.3.4\", \"failureMessage\": \"\", \"exceptionClass\": \"\", \"trace\": \"\"}}, \"*\")"
      ],
      "text/plain": [
       "<IPython.core.display.Javascript object>"
      ]
     },
     "metadata": {},
     "output_type": "display_data"
    },
    {
     "data": {
      "text/markdown": [
       "<span style=\"color:#33cc33\">Correct</span>"
      ],
      "text/plain": [
       "Correct"
      ]
     },
     "metadata": {},
     "output_type": "display_data"
    }
   ],
   "source": [
    "# Your code here\n",
    "renamed = reviews.rename(columns=dict(region_1='region', region_2='locale'))\n",
    "\n",
    "# Check your answer\n",
    "q1.check()"
   ]
  },
  {
   "cell_type": "code",
   "execution_count": 4,
   "id": "1edb1ee7",
   "metadata": {
    "execution": {
     "iopub.execute_input": "2023-04-30T07:46:49.363348Z",
     "iopub.status.busy": "2023-04-30T07:46:49.362831Z",
     "iopub.status.idle": "2023-04-30T07:46:49.368080Z",
     "shell.execute_reply": "2023-04-30T07:46:49.366876Z"
    },
    "papermill": {
     "duration": 0.015218,
     "end_time": "2023-04-30T07:46:49.370451",
     "exception": false,
     "start_time": "2023-04-30T07:46:49.355233",
     "status": "completed"
    },
    "tags": []
   },
   "outputs": [],
   "source": [
    "#q1.hint()\n",
    "#q1.solution()"
   ]
  },
  {
   "cell_type": "markdown",
   "id": "bb4dc4b6",
   "metadata": {
    "papermill": {
     "duration": 0.006344,
     "end_time": "2023-04-30T07:46:49.382986",
     "exception": false,
     "start_time": "2023-04-30T07:46:49.376642",
     "status": "completed"
    },
    "tags": []
   },
   "source": [
    "## 2.\n",
    "Set the index name in the dataset to `wines`."
   ]
  },
  {
   "cell_type": "code",
   "execution_count": 5,
   "id": "e7e9f388",
   "metadata": {
    "execution": {
     "iopub.execute_input": "2023-04-30T07:46:49.397703Z",
     "iopub.status.busy": "2023-04-30T07:46:49.397265Z",
     "iopub.status.idle": "2023-04-30T07:46:49.441489Z",
     "shell.execute_reply": "2023-04-30T07:46:49.440243Z"
    },
    "papermill": {
     "duration": 0.054772,
     "end_time": "2023-04-30T07:46:49.443906",
     "exception": false,
     "start_time": "2023-04-30T07:46:49.389134",
     "status": "completed"
    },
    "tags": []
   },
   "outputs": [
    {
     "data": {
      "application/javascript": [
       "parent.postMessage({\"jupyterEvent\": \"custom.exercise_interaction\", \"data\": {\"outcomeType\": 1, \"valueTowardsCompletion\": 0.25, \"interactionType\": 1, \"questionType\": 1, \"questionId\": \"2_RenameIndex\", \"learnToolsVersion\": \"0.3.4\", \"failureMessage\": \"\", \"exceptionClass\": \"\", \"trace\": \"\"}}, \"*\")"
      ],
      "text/plain": [
       "<IPython.core.display.Javascript object>"
      ]
     },
     "metadata": {},
     "output_type": "display_data"
    },
    {
     "data": {
      "text/markdown": [
       "<span style=\"color:#33cc33\">Correct</span>"
      ],
      "text/plain": [
       "Correct"
      ]
     },
     "metadata": {},
     "output_type": "display_data"
    }
   ],
   "source": [
    "reindexed = reviews.rename_axis('wines', axis='rows')\n",
    "\n",
    "# Check your answer\n",
    "q2.check()"
   ]
  },
  {
   "cell_type": "code",
   "execution_count": 6,
   "id": "dc61fbe4",
   "metadata": {
    "execution": {
     "iopub.execute_input": "2023-04-30T07:46:49.459308Z",
     "iopub.status.busy": "2023-04-30T07:46:49.458374Z",
     "iopub.status.idle": "2023-04-30T07:46:49.464238Z",
     "shell.execute_reply": "2023-04-30T07:46:49.462931Z"
    },
    "papermill": {
     "duration": 0.016545,
     "end_time": "2023-04-30T07:46:49.466963",
     "exception": false,
     "start_time": "2023-04-30T07:46:49.450418",
     "status": "completed"
    },
    "tags": []
   },
   "outputs": [],
   "source": [
    "#q2.hint()\n",
    "#q2.solution()"
   ]
  },
  {
   "cell_type": "markdown",
   "id": "f6b648a4",
   "metadata": {
    "papermill": {
     "duration": 0.006362,
     "end_time": "2023-04-30T07:46:49.481150",
     "exception": false,
     "start_time": "2023-04-30T07:46:49.474788",
     "status": "completed"
    },
    "tags": []
   },
   "source": [
    "## 3.\n",
    "The [Things on Reddit](https://www.kaggle.com/residentmario/things-on-reddit/data) dataset includes product links from a selection of top-ranked forums (\"subreddits\") on reddit.com. Run the cell below to load a dataframe of products mentioned on the */r/gaming* subreddit and another dataframe for products mentioned on the *r//movies* subreddit."
   ]
  },
  {
   "cell_type": "code",
   "execution_count": 7,
   "id": "6d1b2635",
   "metadata": {
    "execution": {
     "iopub.execute_input": "2023-04-30T07:46:49.496198Z",
     "iopub.status.busy": "2023-04-30T07:46:49.495718Z",
     "iopub.status.idle": "2023-04-30T07:46:49.512506Z",
     "shell.execute_reply": "2023-04-30T07:46:49.511312Z"
    },
    "papermill": {
     "duration": 0.028326,
     "end_time": "2023-04-30T07:46:49.515969",
     "exception": false,
     "start_time": "2023-04-30T07:46:49.487643",
     "status": "completed"
    },
    "tags": []
   },
   "outputs": [],
   "source": [
    "gaming_products = pd.read_csv(\"../input/things-on-reddit/top-things/top-things/reddits/g/gaming.csv\")\n",
    "gaming_products['subreddit'] = \"r/gaming\"\n",
    "movie_products = pd.read_csv(\"../input/things-on-reddit/top-things/top-things/reddits/m/movies.csv\")\n",
    "movie_products['subreddit'] = \"r/movies\""
   ]
  },
  {
   "cell_type": "markdown",
   "id": "9abad4fa",
   "metadata": {
    "papermill": {
     "duration": 0.006315,
     "end_time": "2023-04-30T07:46:49.529000",
     "exception": false,
     "start_time": "2023-04-30T07:46:49.522685",
     "status": "completed"
    },
    "tags": []
   },
   "source": [
    "Create a `DataFrame` of products mentioned on *either* subreddit."
   ]
  },
  {
   "cell_type": "code",
   "execution_count": 8,
   "id": "0aad37da",
   "metadata": {
    "execution": {
     "iopub.execute_input": "2023-04-30T07:46:49.544251Z",
     "iopub.status.busy": "2023-04-30T07:46:49.543322Z",
     "iopub.status.idle": "2023-04-30T07:46:49.560178Z",
     "shell.execute_reply": "2023-04-30T07:46:49.558794Z"
    },
    "papermill": {
     "duration": 0.027414,
     "end_time": "2023-04-30T07:46:49.562764",
     "exception": false,
     "start_time": "2023-04-30T07:46:49.535350",
     "status": "completed"
    },
    "tags": []
   },
   "outputs": [
    {
     "data": {
      "application/javascript": [
       "parent.postMessage({\"jupyterEvent\": \"custom.exercise_interaction\", \"data\": {\"outcomeType\": 1, \"valueTowardsCompletion\": 0.25, \"interactionType\": 1, \"questionType\": 2, \"questionId\": \"3_ConcatReddit\", \"learnToolsVersion\": \"0.3.4\", \"failureMessage\": \"\", \"exceptionClass\": \"\", \"trace\": \"\"}}, \"*\")"
      ],
      "text/plain": [
       "<IPython.core.display.Javascript object>"
      ]
     },
     "metadata": {},
     "output_type": "display_data"
    },
    {
     "data": {
      "text/markdown": [
       "<span style=\"color:#33cc33\">Correct</span>"
      ],
      "text/plain": [
       "Correct"
      ]
     },
     "metadata": {},
     "output_type": "display_data"
    }
   ],
   "source": [
    "combined_products = pd.concat([gaming_products, movie_products])\n",
    "\n",
    "# Check your answer\n",
    "q3.check()"
   ]
  },
  {
   "cell_type": "code",
   "execution_count": 9,
   "id": "39b1aa5a",
   "metadata": {
    "execution": {
     "iopub.execute_input": "2023-04-30T07:46:49.578609Z",
     "iopub.status.busy": "2023-04-30T07:46:49.578163Z",
     "iopub.status.idle": "2023-04-30T07:46:49.583298Z",
     "shell.execute_reply": "2023-04-30T07:46:49.581995Z"
    },
    "papermill": {
     "duration": 0.016369,
     "end_time": "2023-04-30T07:46:49.585733",
     "exception": false,
     "start_time": "2023-04-30T07:46:49.569364",
     "status": "completed"
    },
    "tags": []
   },
   "outputs": [],
   "source": [
    "#q3.hint()\n",
    "#q3.solution()"
   ]
  },
  {
   "cell_type": "markdown",
   "id": "b145ceec",
   "metadata": {
    "papermill": {
     "duration": 0.006213,
     "end_time": "2023-04-30T07:46:49.598762",
     "exception": false,
     "start_time": "2023-04-30T07:46:49.592549",
     "status": "completed"
    },
    "tags": []
   },
   "source": [
    "## 4.\n",
    "The [Powerlifting Database](https://www.kaggle.com/open-powerlifting/powerlifting-database) dataset on Kaggle includes one CSV table for powerlifting meets and a separate one for powerlifting competitors. Run the cell below to load these datasets into dataframes:"
   ]
  },
  {
   "cell_type": "code",
   "execution_count": 10,
   "id": "e20873bb",
   "metadata": {
    "execution": {
     "iopub.execute_input": "2023-04-30T07:46:49.613930Z",
     "iopub.status.busy": "2023-04-30T07:46:49.613441Z",
     "iopub.status.idle": "2023-04-30T07:46:50.495629Z",
     "shell.execute_reply": "2023-04-30T07:46:50.493708Z"
    },
    "papermill": {
     "duration": 0.893921,
     "end_time": "2023-04-30T07:46:50.499237",
     "exception": false,
     "start_time": "2023-04-30T07:46:49.605316",
     "status": "completed"
    },
    "tags": []
   },
   "outputs": [],
   "source": [
    "powerlifting_meets = pd.read_csv(\"../input/powerlifting-database/meets.csv\")\n",
    "powerlifting_competitors = pd.read_csv(\"../input/powerlifting-database/openpowerlifting.csv\")"
   ]
  },
  {
   "cell_type": "markdown",
   "id": "e6254850",
   "metadata": {
    "papermill": {
     "duration": 0.006692,
     "end_time": "2023-04-30T07:46:50.513104",
     "exception": false,
     "start_time": "2023-04-30T07:46:50.506412",
     "status": "completed"
    },
    "tags": []
   },
   "source": [
    "Both tables include references to a `MeetID`, a unique key for each meet (competition) included in the database. Using this, generate a dataset combining the two tables into one."
   ]
  },
  {
   "cell_type": "code",
   "execution_count": 11,
   "id": "3ffc80d6",
   "metadata": {
    "execution": {
     "iopub.execute_input": "2023-04-30T07:46:50.529652Z",
     "iopub.status.busy": "2023-04-30T07:46:50.529163Z",
     "iopub.status.idle": "2023-04-30T07:46:51.664682Z",
     "shell.execute_reply": "2023-04-30T07:46:51.663328Z"
    },
    "papermill": {
     "duration": 1.147379,
     "end_time": "2023-04-30T07:46:51.667395",
     "exception": false,
     "start_time": "2023-04-30T07:46:50.520016",
     "status": "completed"
    },
    "tags": []
   },
   "outputs": [
    {
     "data": {
      "application/javascript": [
       "parent.postMessage({\"jupyterEvent\": \"custom.exercise_interaction\", \"data\": {\"outcomeType\": 1, \"valueTowardsCompletion\": 0.25, \"interactionType\": 1, \"questionType\": 2, \"questionId\": \"4_JoinLifting\", \"learnToolsVersion\": \"0.3.4\", \"failureMessage\": \"\", \"exceptionClass\": \"\", \"trace\": \"\"}}, \"*\")"
      ],
      "text/plain": [
       "<IPython.core.display.Javascript object>"
      ]
     },
     "metadata": {},
     "output_type": "display_data"
    },
    {
     "data": {
      "text/markdown": [
       "<span style=\"color:#33cc33\">Correct</span>"
      ],
      "text/plain": [
       "Correct"
      ]
     },
     "metadata": {},
     "output_type": "display_data"
    }
   ],
   "source": [
    "powerlifting_combined = powerlifting_meets.set_index(\"MeetID\").join(powerlifting_competitors.set_index(\"MeetID\"))\n",
    "\n",
    "# Check your answer\n",
    "q4.check()"
   ]
  },
  {
   "cell_type": "code",
   "execution_count": 12,
   "id": "5dc7e86f",
   "metadata": {
    "execution": {
     "iopub.execute_input": "2023-04-30T07:46:51.683669Z",
     "iopub.status.busy": "2023-04-30T07:46:51.683144Z",
     "iopub.status.idle": "2023-04-30T07:46:51.689636Z",
     "shell.execute_reply": "2023-04-30T07:46:51.688352Z"
    },
    "papermill": {
     "duration": 0.017915,
     "end_time": "2023-04-30T07:46:51.692293",
     "exception": false,
     "start_time": "2023-04-30T07:46:51.674378",
     "status": "completed"
    },
    "tags": []
   },
   "outputs": [],
   "source": [
    "#q4.hint()\n",
    "#q4.solution()"
   ]
  },
  {
   "cell_type": "markdown",
   "id": "bffa8786",
   "metadata": {
    "papermill": {
     "duration": 0.006564,
     "end_time": "2023-04-30T07:46:51.706115",
     "exception": false,
     "start_time": "2023-04-30T07:46:51.699551",
     "status": "completed"
    },
    "tags": []
   },
   "source": [
    "# Congratulations!\n",
    "\n",
    "You've finished the Pandas micro-course.  Many data scientists feel efficiency with Pandas is the most useful and practical skill they have, because it allows you to progress quickly in any project you have.\n",
    "\n",
    "If you'd like to apply your new skills to examining geospatial data, you're encouraged to check out our **[Geospatial Analysis](https://www.kaggle.com/learn/geospatial-analysis)** micro-course.\n",
    "\n",
    "You can also take advantage of your Pandas skills by entering a **[Kaggle Competition](https://www.kaggle.com/competitions)** or by answering a question you find interesting using **[Kaggle Datasets](https://www.kaggle.com/datasets)**."
   ]
  },
  {
   "cell_type": "markdown",
   "id": "c7f25f1f",
   "metadata": {
    "papermill": {
     "duration": 0.006468,
     "end_time": "2023-04-30T07:46:51.719408",
     "exception": false,
     "start_time": "2023-04-30T07:46:51.712940",
     "status": "completed"
    },
    "tags": []
   },
   "source": [
    "---\n",
    "\n",
    "\n",
    "\n",
    "\n",
    "*Have questions or comments? Visit the [course discussion forum](https://www.kaggle.com/learn/pandas/discussion) to chat with other learners.*"
   ]
  }
 ],
 "metadata": {
  "kernelspec": {
   "display_name": "Python 3",
   "language": "python",
   "name": "python3"
  },
  "language_info": {
   "codemirror_mode": {
    "name": "ipython",
    "version": 3
   },
   "file_extension": ".py",
   "mimetype": "text/x-python",
   "name": "python",
   "nbconvert_exporter": "python",
   "pygments_lexer": "ipython3",
   "version": "3.7.12"
  },
  "papermill": {
   "default_parameters": {},
   "duration": 19.422619,
   "end_time": "2023-04-30T07:46:52.851201",
   "environment_variables": {},
   "exception": null,
   "input_path": "__notebook__.ipynb",
   "output_path": "__notebook__.ipynb",
   "parameters": {},
   "start_time": "2023-04-30T07:46:33.428582",
   "version": "2.4.0"
  }
 },
 "nbformat": 4,
 "nbformat_minor": 5
}
